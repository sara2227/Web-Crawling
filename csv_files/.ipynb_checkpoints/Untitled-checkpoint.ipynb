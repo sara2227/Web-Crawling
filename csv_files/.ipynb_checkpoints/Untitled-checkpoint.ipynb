{
 "cells": [
  {
   "cell_type": "code",
   "execution_count": 3,
   "metadata": {},
   "outputs": [],
   "source": [
    "import pandas as pd\n",
    "import requests\n"
   ]
  },
  {
   "cell_type": "code",
   "execution_count": 5,
   "metadata": {},
   "outputs": [],
   "source": [
    "df =pd.read_csv('yjc_alzahra.csv')"
   ]
  },
  {
   "cell_type": "code",
   "execution_count": 6,
   "metadata": {},
   "outputs": [
    {
     "data": {
      "text/html": [
       "<div>\n",
       "<style scoped>\n",
       "    .dataframe tbody tr th:only-of-type {\n",
       "        vertical-align: middle;\n",
       "    }\n",
       "\n",
       "    .dataframe tbody tr th {\n",
       "        vertical-align: top;\n",
       "    }\n",
       "\n",
       "    .dataframe thead th {\n",
       "        text-align: right;\n",
       "    }\n",
       "</style>\n",
       "<table border=\"1\" class=\"dataframe\">\n",
       "  <thead>\n",
       "    <tr style=\"text-align: right;\">\n",
       "      <th></th>\n",
       "      <th>url</th>\n",
       "      <th>agency</th>\n",
       "    </tr>\n",
       "  </thead>\n",
       "  <tbody>\n",
       "    <tr>\n",
       "      <th>0</th>\n",
       "      <td>https://www.yjc.news/fa/search/1/-1/-1/50/%D8%...</td>\n",
       "      <td>yjc</td>\n",
       "    </tr>\n",
       "  </tbody>\n",
       "</table>\n",
       "</div>"
      ],
      "text/plain": [
       "                                                 url agency\n",
       "0  https://www.yjc.news/fa/search/1/-1/-1/50/%D8%...    yjc"
      ]
     },
     "execution_count": 6,
     "metadata": {},
     "output_type": "execute_result"
    }
   ],
   "source": [
    "df"
   ]
  },
  {
   "cell_type": "code",
   "execution_count": 8,
   "metadata": {},
   "outputs": [
    {
     "data": {
      "text/plain": [
       "'https://www.yjc.news/fa/search/1/-1/-1/50/%D8%AF%D8%A7%D9%86%D8%B4%DA%AF%D8%A7%D9%87%20%D8%A7%D9%84%D8%B2%D9%87%D8%B1%D8%A7?from=1390/01/01&to=1400/02/25'"
      ]
     },
     "execution_count": 8,
     "metadata": {},
     "output_type": "execute_result"
    }
   ],
   "source": [
    "base_url = df['url'][0]\n",
    "base_url"
   ]
  },
  {
   "cell_type": "code",
   "execution_count": 11,
   "metadata": {},
   "outputs": [
    {
     "name": "stdout",
     "output_type": "stream",
     "text": [
      "https://www.yjc.news/fa/search/1/-1/-1/50/%D8%AF%D8%A7%D9%86%D8%B4%DA%AF%D8%A7%D9%87%20%D8%A7%D9%84%D8%B2%D9%87%D8%B1%D8%A7?from=1390/01/01&to=1400/02/25\n",
      "https://www.yjc.news/fa/search/2/-1/-1/50/%D8%AF%D8%A7%D9%86%D8%B4%DA%AF%D8%A7%D9%87%20%D8%A7%D9%84%D8%B2%D9%87%D8%B1%D8%A7?from=1390/01/01&to=1400/02/25\n",
      "https://www.yjc.news/fa/search/3/-1/-1/50/%D8%AF%D8%A7%D9%86%D8%B4%DA%AF%D8%A7%D9%87%20%D8%A7%D9%84%D8%B2%D9%87%D8%B1%D8%A7?from=1390/01/01&to=1400/02/25\n",
      "https://www.yjc.news/fa/search/4/-1/-1/50/%D8%AF%D8%A7%D9%86%D8%B4%DA%AF%D8%A7%D9%87%20%D8%A7%D9%84%D8%B2%D9%87%D8%B1%D8%A7?from=1390/01/01&to=1400/02/25\n",
      "https://www.yjc.news/fa/search/5/-1/-1/50/%D8%AF%D8%A7%D9%86%D8%B4%DA%AF%D8%A7%D9%87%20%D8%A7%D9%84%D8%B2%D9%87%D8%B1%D8%A7?from=1390/01/01&to=1400/02/25\n",
      "https://www.yjc.news/fa/search/6/-1/-1/50/%D8%AF%D8%A7%D9%86%D8%B4%DA%AF%D8%A7%D9%87%20%D8%A7%D9%84%D8%B2%D9%87%D8%B1%D8%A7?from=1390/01/01&to=1400/02/25\n",
      "https://www.yjc.news/fa/search/7/-1/-1/50/%D8%AF%D8%A7%D9%86%D8%B4%DA%AF%D8%A7%D9%87%20%D8%A7%D9%84%D8%B2%D9%87%D8%B1%D8%A7?from=1390/01/01&to=1400/02/25\n",
      "https://www.yjc.news/fa/search/8/-1/-1/50/%D8%AF%D8%A7%D9%86%D8%B4%DA%AF%D8%A7%D9%87%20%D8%A7%D9%84%D8%B2%D9%87%D8%B1%D8%A7?from=1390/01/01&to=1400/02/25\n",
      "https://www.yjc.news/fa/search/9/-1/-1/50/%D8%AF%D8%A7%D9%86%D8%B4%DA%AF%D8%A7%D9%87%20%D8%A7%D9%84%D8%B2%D9%87%D8%B1%D8%A7?from=1390/01/01&to=1400/02/25\n",
      "https://www.yjc.news/fa/search/10/-1/-1/50/%D8%AF%D8%A7%D9%86%D8%B4%DA%AF%D8%A7%D9%87%20%D8%A7%D9%84%D8%B2%D9%87%D8%B1%D8%A7?from=1390/01/01&to=1400/02/25\n",
      "https://www.yjc.news/fa/search/11/-1/-1/50/%D8%AF%D8%A7%D9%86%D8%B4%DA%AF%D8%A7%D9%87%20%D8%A7%D9%84%D8%B2%D9%87%D8%B1%D8%A7?from=1390/01/01&to=1400/02/25\n",
      "https://www.yjc.news/fa/search/12/-1/-1/50/%D8%AF%D8%A7%D9%86%D8%B4%DA%AF%D8%A7%D9%87%20%D8%A7%D9%84%D8%B2%D9%87%D8%B1%D8%A7?from=1390/01/01&to=1400/02/25\n",
      "https://www.yjc.news/fa/search/13/-1/-1/50/%D8%AF%D8%A7%D9%86%D8%B4%DA%AF%D8%A7%D9%87%20%D8%A7%D9%84%D8%B2%D9%87%D8%B1%D8%A7?from=1390/01/01&to=1400/02/25\n",
      "https://www.yjc.news/fa/search/14/-1/-1/50/%D8%AF%D8%A7%D9%86%D8%B4%DA%AF%D8%A7%D9%87%20%D8%A7%D9%84%D8%B2%D9%87%D8%B1%D8%A7?from=1390/01/01&to=1400/02/25\n",
      "https://www.yjc.news/fa/search/15/-1/-1/50/%D8%AF%D8%A7%D9%86%D8%B4%DA%AF%D8%A7%D9%87%20%D8%A7%D9%84%D8%B2%D9%87%D8%B1%D8%A7?from=1390/01/01&to=1400/02/25\n",
      "https://www.yjc.news/fa/search/16/-1/-1/50/%D8%AF%D8%A7%D9%86%D8%B4%DA%AF%D8%A7%D9%87%20%D8%A7%D9%84%D8%B2%D9%87%D8%B1%D8%A7?from=1390/01/01&to=1400/02/25\n",
      "https://www.yjc.news/fa/search/17/-1/-1/50/%D8%AF%D8%A7%D9%86%D8%B4%DA%AF%D8%A7%D9%87%20%D8%A7%D9%84%D8%B2%D9%87%D8%B1%D8%A7?from=1390/01/01&to=1400/02/25\n",
      "https://www.yjc.news/fa/search/18/-1/-1/50/%D8%AF%D8%A7%D9%86%D8%B4%DA%AF%D8%A7%D9%87%20%D8%A7%D9%84%D8%B2%D9%87%D8%B1%D8%A7?from=1390/01/01&to=1400/02/25\n"
     ]
    }
   ],
   "source": [
    "urls = []\n",
    "for i in range(1,19):\n",
    "    url = base_url.replace(\"search/1/\",\"search/\"+str(i)+\"/\")\n",
    "    print(url)\n",
    "    urls.append(url)\n",
    "    "
   ]
  },
  {
   "cell_type": "code",
   "execution_count": null,
   "metadata": {},
   "outputs": [],
   "source": [
    "urls = []\n",
    "for year in range(1390,1400):\n",
    "    for month in range(1,13):\n",
    "        for day in range(1,31):\n",
    "            for page in range(1,18):\n",
    "                url = base_url.replace(\"pi=1\",\"pi=\"+str(page))\n",
    "                url = url.replace(\"dy=29\",\"dy=\"+str(day))\n",
    "                url = url.replace(\"mn=1\",\"mn=\"+str(month))\n",
    "                url = url.replace(\"yr=1398\",\"yr=\"+str(year))\n",
    "                print(url)\n",
    "                res = requests.get(url,headers={'User-Agent': 'Mozilla/5.0'})\n",
    "                if res.status_code==200:\n",
    "                    urls.append(url)\n",
    "                else:\n",
    "                    print(\"-------------------------------------\",url,res.status_code)\n",
    "print(len(urls))"
   ]
  },
  {
   "cell_type": "code",
   "execution_count": 12,
   "metadata": {},
   "outputs": [],
   "source": [
    "for url in urls:\n",
    "    df.loc[len(df.index)] = [url,'yjc'] \n",
    "df.to_csv('yjc_alzahra.csv',index=False)"
   ]
  },
  {
   "cell_type": "code",
   "execution_count": null,
   "metadata": {},
   "outputs": [],
   "source": [
    "# url='https://www.isna.ir/archive?pi=21&ms=0&dy=25&mn=4&yr=1396'\n",
    "# main_response = requests.get(url=url, headers={'User-Agent': 'Mozilla/5.0'})\n",
    "# print(main_response.status_code)"
   ]
  },
  {
   "cell_type": "code",
   "execution_count": null,
   "metadata": {},
   "outputs": [],
   "source": [
    "len(urls)"
   ]
  },
  {
   "cell_type": "code",
   "execution_count": null,
   "metadata": {},
   "outputs": [],
   "source": [
    "urls[-1]"
   ]
  },
  {
   "cell_type": "code",
   "execution_count": 4,
   "metadata": {},
   "outputs": [],
   "source": [
    "base_url = 'https://aftabnews.ir/fa/archive?service_id=-1&sec_id=-1&cat_id=-1&rpp=100&from_date=1400/03/29&to_date=1400/12/30&p=1'"
   ]
  },
  {
   "cell_type": "code",
   "execution_count": 5,
   "metadata": {},
   "outputs": [],
   "source": [
    "from_date = '1400/03/29'"
   ]
  },
  {
   "cell_type": "code",
   "execution_count": 18,
   "metadata": {},
   "outputs": [
    {
     "name": "stdout",
     "output_type": "stream",
     "text": [
      "2021-06-19\n",
      "19 2021 6\n"
     ]
    }
   ],
   "source": [
    "from datetime import datetime # Current date time in local system \n",
    "today = datetime.today().strftime('%Y-%m-%d')\n",
    "print(today)\n",
    "day = int(today.split('-')[2])\n",
    "year = int(today.split('-')[0])\n",
    "month = int(today.split('-')[1])\n",
    "print(day,year,month)"
   ]
  },
  {
   "cell_type": "code",
   "execution_count": 39,
   "metadata": {},
   "outputs": [],
   "source": [
    "import jdatetime\n",
    "s = jdatetime.date.today().strftime('%Y-%m-%d')"
   ]
  },
  {
   "cell_type": "code",
   "execution_count": 26,
   "metadata": {},
   "outputs": [],
   "source": []
  },
  {
   "cell_type": "code",
   "execution_count": 36,
   "metadata": {},
   "outputs": [
    {
     "data": {
      "text/plain": [
       "3"
      ]
     },
     "execution_count": 36,
     "metadata": {},
     "output_type": "execute_result"
    }
   ],
   "source": []
  },
  {
   "cell_type": "code",
   "execution_count": null,
   "metadata": {},
   "outputs": [],
   "source": []
  }
 ],
 "metadata": {
  "kernelspec": {
   "display_name": "Python 3",
   "language": "python",
   "name": "python3"
  },
  "language_info": {
   "codemirror_mode": {
    "name": "ipython",
    "version": 3
   },
   "file_extension": ".py",
   "mimetype": "text/x-python",
   "name": "python",
   "nbconvert_exporter": "python",
   "pygments_lexer": "ipython3",
   "version": "3.6.9"
  }
 },
 "nbformat": 4,
 "nbformat_minor": 2
}
